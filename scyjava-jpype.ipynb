{
 "metadata": {
  "language_info": {
   "codemirror_mode": {
    "name": "ipython",
    "version": 3
   },
   "file_extension": ".py",
   "mimetype": "text/x-python",
   "name": "python",
   "nbconvert_exporter": "python",
   "pygments_lexer": "ipython3",
   "version": "3.7.8-final"
  },
  "orig_nbformat": 2,
  "kernelspec": {
   "name": "python_defaultSpec_1597932396929",
   "display_name": "Python 3.7.8 64-bit ('jpype': conda)"
  }
 },
 "nbformat": 4,
 "nbformat_minor": 2,
 "cells": [
  {
   "cell_type": "markdown",
   "metadata": {},
   "source": [
    "will it blend? scyjava and jpype\n",
    "==="
   ]
  },
  {
   "cell_type": "code",
   "execution_count": 1,
   "metadata": {
    "tags": []
   },
   "outputs": [],
   "source": [
    "import scyjava_config2\n",
    "scyjava_config2.add_repositories({'scijava.public': 'https://maven.scijava.org/content/groups/public'})\n",
    "scyjava_config2.add_endpoints('net.imagej:imagej:2.0.0-rc-65')\n",
    "import scyjava2, jpype"
   ]
  },
  {
   "cell_type": "code",
   "execution_count": 2,
   "metadata": {
    "tags": []
   },
   "outputs": [
    {
     "output_type": "stream",
     "name": "stdout",
     "text": "[DEBUG] Starting JPype JVM\n[DEBUG] JVM status: Running\n"
    }
   ],
   "source": [
    "scyjava2._init_jvm()"
   ]
  },
  {
   "cell_type": "code",
   "execution_count": 3,
   "metadata": {},
   "outputs": [],
   "source": [
    "from java.lang import System\n",
    "from jpype import JClass, JArray, JLong\n",
    "from net.imagej import ImageJ\n",
    "\n",
    "System.setProperty('java.awt.headless', 'true')\n",
    "\n",
    "ij = ImageJ()"
   ]
  },
  {
   "cell_type": "code",
   "execution_count": 8,
   "metadata": {
    "tags": []
   },
   "outputs": [
    {
     "output_type": "stream",
     "name": "stdout",
     "text": ",,,--+oo******oo+--,,,,,--+oo******o++--,,,,,--+oo******o++--,,,\n...,--+ooo**oo++--,....,,--+ooo**oo++-,,....,,--+ooo**oo++-,,...\n ...,--++oooo++--,... ...,--++oooo++--,... ...,--++oooo++-,,... \n   ..,--++++++--,..     ..,--++o+++--,..     .,,--++o+++--,..   \n   ..,,-++++++-,,.      ..,,-++++++-,,.      ..,--++++++-,,.    \n    .,,--++++--,,.       .,,--++++--,,.       .,,--++++--,..    \n    .,,--++++--,,.       .,,-+++++--,,.       .,,-+++++--,,.    \n   ..,--++++++--,..     ..,--++++++--,..     ..,--++++++-,,..   \n  ..,,-++oooo++-,,..   ..,,-++oooo++-,,..   ..,,-++ooo+++-,,..  \n...,,-++oooooo++-,,.....,,-++oooooo++-,,.....,,-++oooooo+--,,...\n.,,,-++oo****oo++-,,,.,,,-++oo****oo+--,,,.,,,-++oo****oo+--,,,.\n,,--++o***OO**oo++-,,,,--++o***OO**oo+--,,,,--++o***OO**oo+--,,,\n---++o**OOOOOO**o++-----++o**OOOOOO*oo++-----++o**OOOOOO*oo++---\n--++oo*OO####OO*oo++---++oo*OO####OO*oo++---++o**OO####OO*oo++--\n+++oo*OO######O**oo+++++oo*OO######O**oo+++++oo*OO######O**oo+++\n+++oo*OO######OO*oo+++++oo*OO######OO*oo+++++oo*OO######OO*oo+++\n\n"
    }
   ],
   "source": [
    "formula = \"10 * (Math.cos(0.3*p[0]) + Math.sin(0.3*p[1]))\"\n",
    "LongArrayCls = JArray(JLong)\n",
    "dims = LongArrayCls([64, 16])\n",
    "blank = ij.op().getClass().getMethod('create').invoke(ij.op()).img(dims)\n",
    "#blank = ij.op().create().img(dims)\n",
    "#blank = ij.op().run(\"create.img\", [[64, 16]])\n",
    "sinusoid = ij.op().image().equation(blank, formula)\n",
    "print(ij.op().image().ascii(sinusoid))"
   ]
  }
 ]
}