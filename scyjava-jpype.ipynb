{
 "cells": [
  {
   "cell_type": "markdown",
   "metadata": {},
   "source": [
    "will it blend? scyjava and jpype\n",
    "==="
   ]
  },
  {
   "cell_type": "code",
   "execution_count": 2,
   "metadata": {
    "tags": []
   },
   "outputs": [],
   "source": [
    "import scyjava_config\n",
    "scyjava_config.add_repositories({'scijava.public': 'https://maven.scijava.org/content/groups/public'})\n",
    "scyjava_config.add_endpoints('net.imagej:imagej:2.0.0-rc-65')\n",
    "import scyjava, jpype"
   ]
  },
  {
   "cell_type": "code",
   "execution_count": 3,
   "metadata": {
    "tags": []
   },
   "outputs": [
    {
     "name": "stdout",
     "output_type": "stream",
     "text": [
      "[DEBUG] Starting JPype JVM\n",
      "[DEBUG] JVM status: Running\n"
     ]
    }
   ],
   "source": [
    "scyjava._init_jvm()"
   ]
  },
  {
   "cell_type": "code",
   "execution_count": 4,
   "metadata": {},
   "outputs": [],
   "source": [
    "from java.lang import System\n",
    "from jpype import JClass, JArray, JLong\n",
    "from net.imagej import ImageJ\n",
    "\n",
    "System.setProperty('java.awt.headless', 'true')\n",
    "\n",
    "ij = ImageJ()"
   ]
  },
  {
   "cell_type": "code",
   "execution_count": 5,
   "metadata": {
    "tags": []
   },
   "outputs": [
    {
     "name": "stdout",
     "output_type": "stream",
     "text": [
      ",,,--+oo******oo+--,,,,,--+oo******o++--,,,,,--+oo******o++--,,,\n",
      "...,--+ooo**oo++--,....,,--+ooo**oo++-,,....,,--+ooo**oo++-,,...\n",
      " ...,--++oooo++--,... ...,--++oooo++--,... ...,--++oooo++-,,... \n",
      "   ..,--++++++--,..     ..,--++o+++--,..     .,,--++o+++--,..   \n",
      "   ..,,-++++++-,,.      ..,,-++++++-,,.      ..,--++++++-,,.    \n",
      "    .,,--++++--,,.       .,,--++++--,,.       .,,--++++--,..    \n",
      "    .,,--++++--,,.       .,,-+++++--,,.       .,,-+++++--,,.    \n",
      "   ..,--++++++--,..     ..,--++++++--,..     ..,--++++++-,,..   \n",
      "  ..,,-++oooo++-,,..   ..,,-++oooo++-,,..   ..,,-++ooo+++-,,..  \n",
      "...,,-++oooooo++-,,.....,,-++oooooo++-,,.....,,-++oooooo+--,,...\n",
      ".,,,-++oo****oo++-,,,.,,,-++oo****oo+--,,,.,,,-++oo****oo+--,,,.\n",
      ",,--++o***OO**oo++-,,,,--++o***OO**oo+--,,,,--++o***OO**oo+--,,,\n",
      "---++o**OOOOOO**o++-----++o**OOOOOO*oo++-----++o**OOOOOO*oo++---\n",
      "--++oo*OO####OO*oo++---++oo*OO####OO*oo++---++o**OO####OO*oo++--\n",
      "+++oo*OO######O**oo+++++oo*OO######O**oo+++++oo*OO######O**oo+++\n",
      "+++oo*OO######OO*oo+++++oo*OO######OO*oo+++++oo*OO######OO*oo+++\n",
      "\n"
     ]
    }
   ],
   "source": [
    "formula = \"10 * (Math.cos(0.3*p[0]) + Math.sin(0.3*p[1]))\"\n",
    "LongArrayCls = JArray(JLong)\n",
    "dims = LongArrayCls([64, 16])\n",
    "blank = ij.op().getClass().getMethod('create').invoke(ij.op()).img(dims)\n",
    "#blank = ij.op().create().img(dims)\n",
    "#blank = ij.op().run(\"create.img\", [[64, 16]])\n",
    "sinusoid = ij.op().image().equation(blank, formula)\n",
    "print(ij.op().image().ascii(sinusoid))"
   ]
  },
  {
   "cell_type": "markdown",
   "metadata": {},
   "source": [
    "# issue importing classes via old jclass() method - _convert.py"
   ]
  },
  {
   "cell_type": "code",
   "execution_count": 1,
   "metadata": {},
   "outputs": [],
   "source": [
    "import jpype\n",
    "import jpype.imports\n",
    "from jpype.types import *\n",
    "\n",
    "# start JVM\n",
    "jpype.startJVM()"
   ]
  },
  {
   "cell_type": "code",
   "execution_count": 2,
   "metadata": {},
   "outputs": [
    {
     "name": "stdout",
     "output_type": "stream",
     "text": [
      "[DEBUG] JClass: True\n"
     ]
    }
   ],
   "source": [
    "# test jpype.JClass isinstance via import\n",
    "from java.lang import String\n",
    "\n",
    "print('[DEBUG] JClass: {0}'.format(isinstance(String, jpype.JClass)))"
   ]
  },
  {
   "cell_type": "code",
   "execution_count": 3,
   "metadata": {},
   "outputs": [
    {
     "name": "stdout",
     "output_type": "stream",
     "text": [
      "[DEBUG] JClass: True\n"
     ]
    }
   ],
   "source": [
    "# test jpype.JClass isinstance via jpype.JClass()\n",
    "\n",
    "StringClass = jpype.JClass('java.lang.String')\n",
    "print('[DEBUG] JClass: {0}'.format(isinstance(StringClass, jpype.JClass)))"
   ]
  },
  {
   "cell_type": "code",
   "execution_count": 4,
   "metadata": {},
   "outputs": [
    {
     "name": "stdout",
     "output_type": "stream",
     "text": [
      "[DEBUG] JClass: True\n"
     ]
    }
   ],
   "source": [
    "# test jpype.Class isinstance via old jclass() method\n",
    "\n",
    "def jclass (data):\n",
    "    \n",
    "    # import the java class\n",
    "    data = jpype.JClass(data)\n",
    "    \n",
    "    if isinstance(data, jpype.JClass):\n",
    "        print('[DEBUG] JClass: {0}'.format(isinstance(data, jpype.JClass)))\n",
    "    else:\n",
    "        print('[DEBUG] JClass: {0}'.format(isinstance(data, jpype.JClass)))\n",
    "        \n",
    "jclass('java.lang.String')"
   ]
  },
  {
   "cell_type": "code",
   "execution_count": null,
   "metadata": {},
   "outputs": [],
   "source": []
  }
 ],
 "metadata": {
  "kernelspec": {
   "display_name": "Python 3",
   "language": "python",
   "name": "python3"
  },
  "language_info": {
   "codemirror_mode": {
    "name": "ipython",
    "version": 3
   },
   "file_extension": ".py",
   "mimetype": "text/x-python",
   "name": "python",
   "nbconvert_exporter": "python",
   "pygments_lexer": "ipython3",
   "version": "3.8.5"
  }
 },
 "nbformat": 4,
 "nbformat_minor": 4
}
